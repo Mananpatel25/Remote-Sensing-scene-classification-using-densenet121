{
 "cells": [
  {
   "cell_type": "code",
   "execution_count": 3,
   "id": "bfa7866b",
   "metadata": {},
   "outputs": [],
   "source": [
    "import tensorflow as tf\n",
    "from tensorflow.keras.preprocessing.image import ImageDataGenerator\n",
    "from tensorflow.keras.applications.densenet import DenseNet121"
   ]
  },
  {
   "cell_type": "code",
   "execution_count": 2,
   "id": "2021deb1",
   "metadata": {},
   "outputs": [
    {
     "ename": "NameError",
     "evalue": "name 'DenseNet121' is not defined",
     "output_type": "error",
     "traceback": [
      "\u001b[1;31m---------------------------------------------------------------------------\u001b[0m",
      "\u001b[1;31mNameError\u001b[0m                                 Traceback (most recent call last)",
      "Cell \u001b[1;32mIn[2], line 1\u001b[0m\n\u001b[1;32m----> 1\u001b[0m base_model \u001b[38;5;241m=\u001b[39m \u001b[43mDenseNet121\u001b[49m(weights\u001b[38;5;241m=\u001b[39m\u001b[38;5;124m'\u001b[39m\u001b[38;5;124mimagenet\u001b[39m\u001b[38;5;124m'\u001b[39m, include_top\u001b[38;5;241m=\u001b[39m\u001b[38;5;28;01mFalse\u001b[39;00m, input_shape\u001b[38;5;241m=\u001b[39m(\u001b[38;5;241m224\u001b[39m, \u001b[38;5;241m224\u001b[39m, \u001b[38;5;241m3\u001b[39m))\n\u001b[0;32m      3\u001b[0m \u001b[38;5;66;03m# Freeze the pre-trained layers\u001b[39;00m\n\u001b[0;32m      4\u001b[0m \u001b[38;5;28;01mfor\u001b[39;00m layer \u001b[38;5;129;01min\u001b[39;00m base_model\u001b[38;5;241m.\u001b[39mlayers:\n",
      "\u001b[1;31mNameError\u001b[0m: name 'DenseNet121' is not defined"
     ]
    }
   ],
   "source": [
    "base_model = DenseNet121(weights='imagenet', include_top=False, input_shape=(224, 224, 3))\n",
    "\n",
    "# Freeze the pre-trained layers\n",
    "for layer in base_model.layers:\n",
    "    layer.trainable = False\n",
    "\n",
    "# Add a new top layer for classification\n",
    "x = base_model.output\n",
    "x = tf.keras.layers.GlobalAveragePooling2D()(x)\n",
    "x = tf.keras.layers.Dense(1024, activation='relu')(x)\n",
    "predictions = tf.keras.layers.Dense(21, activation='softmax')(x)"
   ]
  },
  {
   "cell_type": "code",
   "execution_count": 4,
   "id": "7e73b49b",
   "metadata": {},
   "outputs": [
    {
     "name": "stdout",
     "output_type": "stream",
     "text": [
      "Found 7350 images belonging to 21 classes.\n",
      "Found 2100 images belonging to 21 classes.\n",
      "Epoch 1/15\n",
      "230/230 [==============================] - 1853s 8s/step - loss: 2.3666 - accuracy: 0.3569 - val_loss: 1.1067 - val_accuracy: 0.6086\n",
      "Epoch 2/15\n",
      "230/230 [==============================] - 1590s 7s/step - loss: 0.9776 - accuracy: 0.6776 - val_loss: 0.6342 - val_accuracy: 0.7848\n",
      "Epoch 3/15\n",
      "230/230 [==============================] - 1525s 7s/step - loss: 0.6563 - accuracy: 0.7790 - val_loss: 0.5395 - val_accuracy: 0.8138\n",
      "Epoch 4/15\n",
      "230/230 [==============================] - 1656s 7s/step - loss: 0.5753 - accuracy: 0.8003 - val_loss: 0.4263 - val_accuracy: 0.8457\n",
      "Epoch 5/15\n",
      "230/230 [==============================] - 1822s 8s/step - loss: 0.4445 - accuracy: 0.8449 - val_loss: 0.4110 - val_accuracy: 0.8619\n",
      "Epoch 6/15\n",
      "230/230 [==============================] - 1611s 7s/step - loss: 0.4555 - accuracy: 0.8392 - val_loss: 0.5274 - val_accuracy: 0.8333\n",
      "Epoch 7/15\n",
      "230/230 [==============================] - 1612s 7s/step - loss: 0.3533 - accuracy: 0.8795 - val_loss: 0.3398 - val_accuracy: 0.8857\n",
      "Epoch 8/15\n",
      "230/230 [==============================] - 1361s 6s/step - loss: 0.3037 - accuracy: 0.8955 - val_loss: 0.3828 - val_accuracy: 0.8624\n",
      "Epoch 9/15\n",
      "230/230 [==============================] - 1438s 6s/step - loss: 0.3420 - accuracy: 0.8823 - val_loss: 0.3693 - val_accuracy: 0.8719\n",
      "Epoch 10/15\n",
      "230/230 [==============================] - 1465s 6s/step - loss: 0.2919 - accuracy: 0.8969 - val_loss: 0.3482 - val_accuracy: 0.8924\n",
      "Epoch 11/15\n",
      "230/230 [==============================] - 1423s 6s/step - loss: 0.2508 - accuracy: 0.9106 - val_loss: 0.2232 - val_accuracy: 0.9200\n",
      "Epoch 12/15\n",
      "230/230 [==============================] - 1429s 6s/step - loss: 0.2239 - accuracy: 0.9204 - val_loss: 0.1877 - val_accuracy: 0.9314\n",
      "Epoch 13/15\n",
      "230/230 [==============================] - 1463s 6s/step - loss: 0.2196 - accuracy: 0.9257 - val_loss: 0.1803 - val_accuracy: 0.9343\n",
      "Epoch 14/15\n",
      "230/230 [==============================] - 1441s 6s/step - loss: 0.2316 - accuracy: 0.9161 - val_loss: 0.1956 - val_accuracy: 0.9267\n",
      "Epoch 15/15\n",
      "230/230 [==============================] - 1428s 6s/step - loss: 0.1702 - accuracy: 0.9442 - val_loss: 0.2216 - val_accuracy: 0.9195\n"
     ]
    }
   ],
   "source": [
    "model = tf.keras.models.Model(inputs=base_model.input, outputs=predictions)\n",
    "\n",
    "# Compile the model\n",
    "model.compile(optimizer='adam', loss='categorical_crossentropy', metrics=['accuracy'])\n",
    "\n",
    "# Set up the data generators\n",
    "train_datagen = ImageDataGenerator(rescale=1./255, shear_range=0.2, zoom_range=0.2, horizontal_flip=True)\n",
    "test_datagen = ImageDataGenerator(rescale=1./255)\n",
    "\n",
    "train_generator = train_datagen.flow_from_directory(r'C:\\Users\\MANAN\\Downloads\\train', target_size=(224, 224), batch_size=32, class_mode='categorical',shuffle=False)\n",
    "val_generator = test_datagen.flow_from_directory(r'C:\\Users\\MANAN\\Downloads\\validation', target_size=(224, 224), batch_size=32, class_mode='categorical',shuffle=False)\n",
    "\n",
    "# Train the model\n",
    "my_model=model.fit(train_generator, epochs=15, validation_data=val_generator)"
   ]
  },
  {
   "cell_type": "code",
   "execution_count": 5,
   "id": "b4a86414",
   "metadata": {},
   "outputs": [],
   "source": [
    "model.save('my_model.h5')"
   ]
  },
  {
   "cell_type": "code",
   "execution_count": 6,
   "id": "61fdf6fa",
   "metadata": {},
   "outputs": [
    {
     "name": "stdout",
     "output_type": "stream",
     "text": [
      "Found 1050 images belonging to 21 classes.\n"
     ]
    }
   ],
   "source": [
    "test_dataset = r'C:\\Users\\MANAN\\Downloads\\test'\n",
    "test_datagen = ImageDataGenerator(rescale=1.0/255)\n",
    "\n",
    "test_generator = test_datagen.flow_from_directory(test_dataset,\n",
    "                                                 shuffle=False,\n",
    "                                                 batch_size=32,\n",
    "                                                 target_size = (256,256),\n",
    "                                                 class_mode='categorical')"
   ]
  },
  {
   "cell_type": "code",
   "execution_count": 7,
   "id": "db00944e",
   "metadata": {},
   "outputs": [
    {
     "name": "stdout",
     "output_type": "stream",
     "text": [
      "33/33 [==============================] - 213s 7s/step - loss: 0.2337 - accuracy: 0.9124\n"
     ]
    }
   ],
   "source": [
    "test_loss, test_accuracy = model.evaluate(test_generator, batch_size=32)"
   ]
  },
  {
   "cell_type": "code",
   "execution_count": 8,
   "id": "9d0c76e7",
   "metadata": {},
   "outputs": [
    {
     "name": "stdout",
     "output_type": "stream",
     "text": [
      "Test Loss:     0.23373252153396606\n",
      "Test Accuracy: 0.9123809337615967\n"
     ]
    }
   ],
   "source": [
    "print(f\"Test Loss:     {test_loss}\")\n",
    "print(f\"Test Accuracy: {test_accuracy}\")"
   ]
  },
  {
   "cell_type": "code",
   "execution_count": 9,
   "id": "f3551f8f",
   "metadata": {},
   "outputs": [],
   "source": [
    "class_label=list(train_generator.class_indices.keys())"
   ]
  },
  {
   "cell_type": "code",
   "execution_count": 4,
   "id": "8e6c71b1",
   "metadata": {},
   "outputs": [
    {
     "data": {
      "text/plain": [
       "<keras.engine.functional.Functional at 0x135f507c250>"
      ]
     },
     "execution_count": 4,
     "metadata": {},
     "output_type": "execute_result"
    }
   ],
   "source": [
    "from keras.models import load_model\n",
    "load_model('my_model.h5')"
   ]
  },
  {
   "cell_type": "code",
   "execution_count": 5,
   "id": "2ed83f2b",
   "metadata": {},
   "outputs": [
    {
     "ename": "NameError",
     "evalue": "name 'my_model' is not defined",
     "output_type": "error",
     "traceback": [
      "\u001b[1;31m---------------------------------------------------------------------------\u001b[0m",
      "\u001b[1;31mNameError\u001b[0m                                 Traceback (most recent call last)",
      "Cell \u001b[1;32mIn[5], line 2\u001b[0m\n\u001b[0;32m      1\u001b[0m \u001b[38;5;28;01mimport\u001b[39;00m \u001b[38;5;21;01mnumpy\u001b[39;00m \u001b[38;5;28;01mas\u001b[39;00m \u001b[38;5;21;01mnp\u001b[39;00m\n\u001b[1;32m----> 2\u001b[0m \u001b[43mmy_model\u001b[49m\u001b[38;5;241m.\u001b[39mevaluate(test_generator)\n\u001b[0;32m      3\u001b[0m preds \u001b[38;5;241m=\u001b[39m my_model\u001b[38;5;241m.\u001b[39mpredict(test_generator)\n\u001b[0;32m      4\u001b[0m y_preds \u001b[38;5;241m=\u001b[39m np\u001b[38;5;241m.\u001b[39margmax(preds , axis \u001b[38;5;241m=\u001b[39m \u001b[38;5;241m1\u001b[39m )\n",
      "\u001b[1;31mNameError\u001b[0m: name 'my_model' is not defined"
     ]
    }
   ],
   "source": [
    "import numpy as np\n",
    "my_model.evaluate(test_generator)\n",
    "preds = my_model.predict(test_generator)\n",
    "y_preds = np.argmax(preds , axis = 1 )\n",
    "y_test = np.array(test_generator.labels)"
   ]
  },
  {
   "cell_type": "code",
   "execution_count": 23,
   "id": "e793d9e0",
   "metadata": {},
   "outputs": [
    {
     "name": "stdout",
     "output_type": "stream",
     "text": [
      "Precision: 0.912\n"
     ]
    }
   ],
   "source": [
    "from sklearn.metrics import precision_score\n",
    "print('Precision: %.3f' % precision_score(y_test, y_preds,average='micro'))"
   ]
  },
  {
   "cell_type": "code",
   "execution_count": 24,
   "id": "b340bc97",
   "metadata": {},
   "outputs": [
    {
     "name": "stdout",
     "output_type": "stream",
     "text": [
      "Recall: 0.912\n"
     ]
    }
   ],
   "source": [
    "from sklearn.metrics import recall_score\n",
    "print('Recall: %.3f' % recall_score(y_test, y_preds,average='micro'))"
   ]
  },
  {
   "cell_type": "code",
   "execution_count": 25,
   "id": "93e84411",
   "metadata": {},
   "outputs": [
    {
     "name": "stdout",
     "output_type": "stream",
     "text": [
      "F1 Score: 0.912\n"
     ]
    }
   ],
   "source": [
    "from sklearn.metrics import f1_score\n",
    "print('F1 Score: %.3f' % f1_score(y_test, y_preds,average='micro'))"
   ]
  },
  {
   "cell_type": "code",
   "execution_count": 33,
   "id": "0260ad8e",
   "metadata": {},
   "outputs": [
    {
     "data": {
      "image/png": "[encoded data removed]",
      "text/plain": [
       "<Figure size 640x480 with 1 Axes>"
      ]
     },
     "metadata": {},
     "output_type": "display_data"
    }
   ],
   "source": [
    "import matplotlib.pyplot as plt\n",
    "loss = my_model.history['loss']\n",
    "val_loss = my_model.history['val_loss']  \n",
    "accuracy = my_model.history['accuracy']\n",
    "val_accuracy = my_model.history['val_accuracy']\n",
    "epochs = range(len(my_model.history['loss']))\n",
    "plt.figure()\n",
    "plt.plot(epochs, accuracy, label='Training Accuracy')\n",
    "plt.plot(epochs, val_accuracy, label='Validation Accuracy')\n",
    "plt.title('Accuracy')\n",
    "plt.xlabel('Epochs')\n",
    "plt.legend()\n",
    "plt.show()"
   ]
  },
  {
   "cell_type": "code",
   "execution_count": 36,
   "id": "1e5230b7",
   "metadata": {},
   "outputs": [
    {
     "name": "stdout",
     "output_type": "stream",
     "text": [
      "dict_keys(['loss', 'accuracy', 'val_loss', 'val_accuracy'])\n"
     ]
    }
   ],
   "source": [
    "history_dict = my_model.history\n",
    "print(history_dict.keys())"
   ]
  },
  {
   "cell_type": "code",
   "execution_count": null,
   "id": "9a866362",
   "metadata": {},
   "outputs": [],
   "source": []
  }
 ],
 "metadata": {
  "kernelspec": {
   "display_name": "Python 3 (ipykernel)",
   "language": "python",
   "name": "python3"
  },
  "language_info": {
   "codemirror_mode": {
    "name": "ipython",
    "version": 3
   },
   "file_extension": ".py",
   "mimetype": "text/x-python",
   "name": "python",
   "nbconvert_exporter": "python",
   "pygments_lexer": "ipython3",
   "version": "3.11.3"
  }
 },
 "nbformat": 4,
 "nbformat_minor": 5
}
